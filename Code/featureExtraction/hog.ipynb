{
 "cells": [
  {
   "cell_type": "code",
   "execution_count": 2,
   "metadata": {},
   "outputs": [],
   "source": [
    "import numpy as np \n",
    "X = np.load(\"../../Dataset/x_train.npy\", allow_pickle=True)\n",
    "Y = np.load(\"../../Dataset/y_train.npy\", allow_pickle=True)\n",
    "x_test = np.load(\"../../Dataset/x_test.npy\", allow_pickle=True)\n",
    "y_test = np.load(\"../../Dataset/y_test.npy\", allow_pickle=True)\n"
   ]
  },
  {
   "cell_type": "code",
   "execution_count": 17,
   "metadata": {},
   "outputs": [
    {
     "data": {
      "text/plain": [
       "(5660,)"
      ]
     },
     "execution_count": 17,
     "metadata": {},
     "output_type": "execute_result"
    }
   ],
   "source": [
    "X.shape"
   ]
  },
  {
   "cell_type": "code",
   "execution_count": 4,
   "metadata": {},
   "outputs": [
    {
     "data": {
      "text/plain": [
       "'Colin_Powell'"
      ]
     },
     "execution_count": 4,
     "metadata": {},
     "output_type": "execute_result"
    }
   ],
   "source": [
    "Y[0]"
   ]
  },
  {
   "cell_type": "code",
   "execution_count": 14,
   "metadata": {},
   "outputs": [
    {
     "data": {
      "text/plain": [
       "(142, 250, 250, 3)"
      ]
     },
     "execution_count": 14,
     "metadata": {},
     "output_type": "execute_result"
    }
   ],
   "source": [
    "x_test.shape"
   ]
  },
  {
   "cell_type": "code",
   "execution_count": 15,
   "metadata": {},
   "outputs": [],
   "source": [
    "from skimage import feature\n",
    "from skimage.color import rgb2gray\n",
    "\n",
    "\n",
    "def extract_hog_features(image):\n",
    "    hog_features = feature.hog(image, orientations=9, pixels_per_cell=(8, 8), cells_per_block=(2, 2), block_norm=\"L1\")\n",
    "    return hog_features\n",
    "\n",
    "X_train_hog = [extract_hog_features(x) for x in X]\n",
    "x_test_gray = [rgb2gray(x) for x in x_test]\n",
    "X_test_hog = [extract_hog_features(x) for x in x_test_gray]\n",
    "\n"
   ]
  },
  {
   "cell_type": "code",
   "execution_count": 20,
   "metadata": {},
   "outputs": [
    {
     "data": {
      "text/plain": [
       "5660"
      ]
     },
     "execution_count": 20,
     "metadata": {},
     "output_type": "execute_result"
    }
   ],
   "source": [
    "len(X_train_hog)"
   ]
  },
  {
   "cell_type": "code",
   "execution_count": 16,
   "metadata": {},
   "outputs": [
    {
     "name": "stdout",
     "output_type": "stream",
     "text": [
      "The accuracy of the SVM classifier on the test set is: 0.4507042253521127\n",
      "                   precision    recall  f1-score   support\n",
      "\n",
      "     Ariel_Sharon       0.80      0.25      0.38        16\n",
      "     Colin_Powell       0.48      0.60      0.53        20\n",
      "  Donald_Rumsfeld       0.31      0.75      0.44        20\n",
      "    George_W_Bush       0.50      0.65      0.57        20\n",
      "Gerhard_Schroeder       0.46      0.55      0.50        20\n",
      "      Hugo_Chavez       0.67      0.14      0.24        14\n",
      "Junichiro_Koizumi       0.50      0.17      0.25        12\n",
      "       Tony_Blair       0.71      0.25      0.37        20\n",
      "\n",
      "         accuracy                           0.45       142\n",
      "        macro avg       0.55      0.42      0.41       142\n",
      "     weighted avg       0.55      0.45      0.43       142\n",
      "\n"
     ]
    }
   ],
   "source": [
    "from sklearn import svm\n",
    "from sklearn.metrics import accuracy_score, classification_report\n",
    "\n",
    "# Create an SVM classifier\n",
    "clf = svm.SVC()\n",
    "\n",
    "# Train the classifier\n",
    "clf.fit(X_train_hog, Y)\n",
    "\n",
    "# Use the trained classifier to predict the labels of the test set\n",
    "y_pred = clf.predict(X_test_hog)\n",
    "\n",
    "# Calculate the accuracy of the classifier\n",
    "accuracy = accuracy_score(y_test, y_pred)\n",
    "print(f'The accuracy of the SVM classifier on the test set is: {accuracy}')\n",
    "\n",
    "# Generate the classification report\n",
    "report = classification_report(y_test, y_pred)\n",
    "print(report)"
   ]
  }
 ],
 "metadata": {
  "kernelspec": {
   "display_name": "Python 3",
   "language": "python",
   "name": "python3"
  },
  "language_info": {
   "codemirror_mode": {
    "name": "ipython",
    "version": 3
   },
   "file_extension": ".py",
   "mimetype": "text/x-python",
   "name": "python",
   "nbconvert_exporter": "python",
   "pygments_lexer": "ipython3",
   "version": "3.10.11"
  }
 },
 "nbformat": 4,
 "nbformat_minor": 2
}
